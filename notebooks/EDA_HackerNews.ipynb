{
 "cells": [
  {
   "cell_type": "markdown",
   "id": "f8a11cb2-0caf-479a-86ce-86a46ce88ac1",
   "metadata": {},
   "source": [
    "# Hacker News Analysis\n",
    "\n",
    "\n",
    "- title,\n",
    "- title_length,\n",
    "- text, // suggested to be skipped by Bes\n",
    "- text_length, // suggested to be skipped by Bes\n",
    "- user_karma, // metric representing the coolness of that user\n",
    "- user_submissions,\n",
    "- dead,\n",
    "- domain_karma, // metric representing the coolness of that domain\n",
    "- virality, // metrics about comment hike speed\n",
    "- competion, // metrics about what else was posted that day\n",
    "- week_day, // encoded\n",
    "- time_day, // encoded\n",
    "- drift_from_cool, // 100-v about what was pulling scores then\n",
    "- score (label)"
   ]
  },
  {
   "cell_type": "code",
   "execution_count": 1,
   "id": "3900666a-9e2d-417d-aad8-ef4986f19ac3",
   "metadata": {},
   "outputs": [
    {
     "name": "stdout",
     "output_type": "stream",
     "text": [
      "hello\n"
     ]
    }
   ],
   "source": [
    "print(\"hello\")"
   ]
  }
 ],
 "metadata": {
  "kernelspec": {
   "display_name": "ml-institute-week1-project",
   "language": "python",
   "name": "python3"
  },
  "language_info": {
   "codemirror_mode": {
    "name": "ipython",
    "version": 3
   },
   "file_extension": ".py",
   "mimetype": "text/x-python",
   "name": "python",
   "nbconvert_exporter": "python",
   "pygments_lexer": "ipython3",
   "version": "3.11.11"
  }
 },
 "nbformat": 4,
 "nbformat_minor": 5
}
